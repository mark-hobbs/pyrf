{
 "cells": [
  {
   "cell_type": "markdown",
   "id": "09ac8e72",
   "metadata": {},
   "source": [
    "### Covariance Functions\n",
    "\n",
    "[Advice on covariance functions](https://www.cs.toronto.edu/~duvenaud/cookbook/)"
   ]
  },
  {
   "cell_type": "code",
   "execution_count": 2,
   "id": "5dfa0055",
   "metadata": {},
   "outputs": [],
   "source": [
    "class CovarianceFunction():\n",
    "    \"\"\"\n",
    "    Covariance function class\n",
    "    \n",
    "    Attributes\n",
    "    ----------\n",
    "    \n",
    "    Methods\n",
    "    -------\n",
    "    \n",
    "    Notes\n",
    "    -----\n",
    "    \"\"\"\n",
    "    \n",
    "    def __init__(self, rho, lc):\n",
    "        \"\"\"\n",
    "        Covariance function class constructor\n",
    "        \n",
    "        Parameters\n",
    "        ----------\n",
    "        rho : float\n",
    "            Threshold value\n",
    "            \n",
    "        lc : float\n",
    "            Correlation length\n",
    "            \n",
    "        kernel :\n",
    "            Covariance kernel (exponential, linear, gaussian, JCSS)\n",
    "        \n",
    "        Returns\n",
    "        -------\n",
    "        \n",
    "        Notes\n",
    "        -----\n",
    "        \"\"\"\n",
    "        self.rho = rho\n",
    "        self.lc = lc\n",
    "        \n",
    "    def build_correlation_matrix():\n",
    "        pass"
   ]
  },
  {
   "cell_type": "code",
   "execution_count": null,
   "id": "d099f32f",
   "metadata": {},
   "outputs": [],
   "source": [
    "class RandomField():\n",
    "    \n",
    "    def __init__(self):\n",
    "        pass"
   ]
  }
 ],
 "metadata": {
  "kernelspec": {
   "display_name": "Python 3 (ipykernel)",
   "language": "python",
   "name": "python3"
  },
  "language_info": {
   "codemirror_mode": {
    "name": "ipython",
    "version": 3
   },
   "file_extension": ".py",
   "mimetype": "text/x-python",
   "name": "python",
   "nbconvert_exporter": "python",
   "pygments_lexer": "ipython3",
   "version": "3.8.12"
  }
 },
 "nbformat": 4,
 "nbformat_minor": 5
}
